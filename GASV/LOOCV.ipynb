{
 "cells": [
  {
   "cell_type": "code",
   "execution_count": 368,
   "metadata": {},
   "outputs": [],
   "source": [
    "# %load LOOCV.py\n",
    "from matplotlib import pyplot as plt\n",
    "import lasio\n",
    "from sklearn import preprocessing\n",
    "import numpy as np\n",
    "import pandas as pd\n",
    "from sklearn.metrics import r2_score, mean_squared_error\n",
    "from sklearn.ensemble import RandomForestRegressor\n",
    "from sklearn.model_selection import train_test_split\n",
    "from model import one_cnn_model, three_cnn_model, bp_model, LinearRegression_model\n",
    "import openpyxl\n",
    "from sklearn.svm import SVR\n",
    "from DataSet import dataset_lab\n",
    "from Normalization import Normalization, Anti_Normalization, Normalization_lab, Anti_Normalization_lab\n",
    "from sklearn.model_selection import LeaveOneOut\n",
    "from sklearn.neighbors import KNeighborsClassifier as KNN\n",
    "from sklearn import tree\n",
    "from sklearn import model_selection"
   ]
  },
  {
   "cell_type": "code",
   "execution_count": 369,
   "metadata": {
    "slideshow": {
     "slide_type": "-"
    }
   },
   "outputs": [],
   "source": [
    "# 读取初始化相关数据\n",
    "fileName_23 = './井/WY23.las'\n",
    "fileName_35 = \"./井/WY35.las\"\n",
    "las_23 = lasio.read(fileName_23)\n",
    "b = 6"
   ]
  },
  {
   "cell_type": "code",
   "execution_count": 370,
   "metadata": {
    "scrolled": false
   },
   "outputs": [
    {
     "name": "stdout",
     "output_type": "stream",
     "text": [
      "train_data_length:  154\n"
     ]
    }
   ],
   "source": [
    "Para_VVR, df_Para, Aim, de_Aim, data, train_data_length = dataset_lab(b)\n",
    "print(\"train_data_length: \", train_data_length)"
   ]
  },
  {
   "cell_type": "code",
   "execution_count": 371,
   "metadata": {
    "scrolled": true
   },
   "outputs": [
    {
     "name": "stdout",
     "output_type": "stream",
     "text": [
      "(47, 1, 3)\n"
     ]
    }
   ],
   "source": [
    "NL_input_data, NL_output_data = Normalization_lab(data, train_data_length)\n",
    "print(NL_input_data.shape)"
   ]
  },
  {
   "cell_type": "markdown",
   "metadata": {},
   "source": [
    "cnn"
   ]
  },
  {
   "cell_type": "code",
   "execution_count": 376,
   "metadata": {
    "scrolled": false
   },
   "outputs": [
    {
     "name": "stdout",
     "output_type": "stream",
     "text": [
      "WARNING:tensorflow:11 out of the last 11 calls to <function Model.make_predict_function.<locals>.predict_function at 0x0000015B39D919D8> triggered tf.function retracing. Tracing is expensive and the excessive number of tracings could be due to (1) creating @tf.function repeatedly in a loop, (2) passing tensors with different shapes, (3) passing Python objects instead of tensors. For (1), please define your @tf.function outside of the loop. For (2), @tf.function has experimental_relax_shapes=True option that relaxes argument shapes that can avoid unnecessary retracing. For (3), please refer to https://www.tensorflow.org/tutorials/customization/performance#python_or_tensor_args and https://www.tensorflow.org/api_docs/python/tf/function for  more details.\n",
      "WARNING:tensorflow:11 out of the last 11 calls to <function Model.make_predict_function.<locals>.predict_function at 0x0000015B404506A8> triggered tf.function retracing. Tracing is expensive and the excessive number of tracings could be due to (1) creating @tf.function repeatedly in a loop, (2) passing tensors with different shapes, (3) passing Python objects instead of tensors. For (1), please define your @tf.function outside of the loop. For (2), @tf.function has experimental_relax_shapes=True option that relaxes argument shapes that can avoid unnecessary retracing. For (3), please refer to https://www.tensorflow.org/tutorials/customization/performance#python_or_tensor_args and https://www.tensorflow.org/api_docs/python/tf/function for  more details.\n",
      "WARNING:tensorflow:11 out of the last 11 calls to <function Model.make_predict_function.<locals>.predict_function at 0x0000015B404507B8> triggered tf.function retracing. Tracing is expensive and the excessive number of tracings could be due to (1) creating @tf.function repeatedly in a loop, (2) passing tensors with different shapes, (3) passing Python objects instead of tensors. For (1), please define your @tf.function outside of the loop. For (2), @tf.function has experimental_relax_shapes=True option that relaxes argument shapes that can avoid unnecessary retracing. For (3), please refer to https://www.tensorflow.org/tutorials/customization/performance#python_or_tensor_args and https://www.tensorflow.org/api_docs/python/tf/function for  more details.\n",
      "WARNING:tensorflow:11 out of the last 11 calls to <function Model.make_predict_function.<locals>.predict_function at 0x0000015B31F50BF8> triggered tf.function retracing. Tracing is expensive and the excessive number of tracings could be due to (1) creating @tf.function repeatedly in a loop, (2) passing tensors with different shapes, (3) passing Python objects instead of tensors. For (1), please define your @tf.function outside of the loop. For (2), @tf.function has experimental_relax_shapes=True option that relaxes argument shapes that can avoid unnecessary retracing. For (3), please refer to https://www.tensorflow.org/tutorials/customization/performance#python_or_tensor_args and https://www.tensorflow.org/api_docs/python/tf/function for  more details.\n",
      "WARNING:tensorflow:11 out of the last 11 calls to <function Model.make_predict_function.<locals>.predict_function at 0x0000015B2F89C9D8> triggered tf.function retracing. Tracing is expensive and the excessive number of tracings could be due to (1) creating @tf.function repeatedly in a loop, (2) passing tensors with different shapes, (3) passing Python objects instead of tensors. For (1), please define your @tf.function outside of the loop. For (2), @tf.function has experimental_relax_shapes=True option that relaxes argument shapes that can avoid unnecessary retracing. For (3), please refer to https://www.tensorflow.org/tutorials/customization/performance#python_or_tensor_args and https://www.tensorflow.org/api_docs/python/tf/function for  more details.\n",
      "WARNING:tensorflow:11 out of the last 11 calls to <function Model.make_predict_function.<locals>.predict_function at 0x0000015B3D22E6A8> triggered tf.function retracing. Tracing is expensive and the excessive number of tracings could be due to (1) creating @tf.function repeatedly in a loop, (2) passing tensors with different shapes, (3) passing Python objects instead of tensors. For (1), please define your @tf.function outside of the loop. For (2), @tf.function has experimental_relax_shapes=True option that relaxes argument shapes that can avoid unnecessary retracing. For (3), please refer to https://www.tensorflow.org/tutorials/customization/performance#python_or_tensor_args and https://www.tensorflow.org/api_docs/python/tf/function for  more details.\n",
      "WARNING:tensorflow:11 out of the last 11 calls to <function Model.make_predict_function.<locals>.predict_function at 0x0000015B437558C8> triggered tf.function retracing. Tracing is expensive and the excessive number of tracings could be due to (1) creating @tf.function repeatedly in a loop, (2) passing tensors with different shapes, (3) passing Python objects instead of tensors. For (1), please define your @tf.function outside of the loop. For (2), @tf.function has experimental_relax_shapes=True option that relaxes argument shapes that can avoid unnecessary retracing. For (3), please refer to https://www.tensorflow.org/tutorials/customization/performance#python_or_tensor_args and https://www.tensorflow.org/api_docs/python/tf/function for  more details.\n",
      "WARNING:tensorflow:11 out of the last 11 calls to <function Model.make_predict_function.<locals>.predict_function at 0x0000015B1894A048> triggered tf.function retracing. Tracing is expensive and the excessive number of tracings could be due to (1) creating @tf.function repeatedly in a loop, (2) passing tensors with different shapes, (3) passing Python objects instead of tensors. For (1), please define your @tf.function outside of the loop. For (2), @tf.function has experimental_relax_shapes=True option that relaxes argument shapes that can avoid unnecessary retracing. For (3), please refer to https://www.tensorflow.org/tutorials/customization/performance#python_or_tensor_args and https://www.tensorflow.org/api_docs/python/tf/function for  more details.\n",
      "WARNING:tensorflow:11 out of the last 11 calls to <function Model.make_predict_function.<locals>.predict_function at 0x0000015B1A942AE8> triggered tf.function retracing. Tracing is expensive and the excessive number of tracings could be due to (1) creating @tf.function repeatedly in a loop, (2) passing tensors with different shapes, (3) passing Python objects instead of tensors. For (1), please define your @tf.function outside of the loop. For (2), @tf.function has experimental_relax_shapes=True option that relaxes argument shapes that can avoid unnecessary retracing. For (3), please refer to https://www.tensorflow.org/tutorials/customization/performance#python_or_tensor_args and https://www.tensorflow.org/api_docs/python/tf/function for  more details.\n"
     ]
    },
    {
     "ename": "KeyboardInterrupt",
     "evalue": "",
     "output_type": "error",
     "traceback": [
      "\u001b[1;31m---------------------------------------------------------------------------\u001b[0m",
      "\u001b[1;31mKeyboardInterrupt\u001b[0m                         Traceback (most recent call last)",
      "\u001b[1;32m<ipython-input-376-e59df48e23aa>\u001b[0m in \u001b[0;36m<module>\u001b[1;34m()\u001b[0m\n\u001b[0;32m      8\u001b[0m     \u001b[0mNL_train_Y_data\u001b[0m\u001b[1;33m,\u001b[0m \u001b[0mNL_test_Y_data\u001b[0m \u001b[1;33m=\u001b[0m \u001b[0mNL_output_data\u001b[0m\u001b[1;33m[\u001b[0m\u001b[0mtrain_index\u001b[0m\u001b[1;33m]\u001b[0m\u001b[1;33m,\u001b[0m \u001b[0mNL_output_data\u001b[0m\u001b[1;33m[\u001b[0m\u001b[0mtest_index\u001b[0m\u001b[1;33m]\u001b[0m\u001b[1;33m\u001b[0m\u001b[0m\n\u001b[0;32m      9\u001b[0m \u001b[1;33m\u001b[0m\u001b[0m\n\u001b[1;32m---> 10\u001b[1;33m     \u001b[0myhat\u001b[0m\u001b[1;33m,\u001b[0m \u001b[0mmodel\u001b[0m\u001b[1;33m,\u001b[0m \u001b[0mhistory\u001b[0m \u001b[1;33m=\u001b[0m \u001b[0mthree_cnn_model\u001b[0m\u001b[1;33m(\u001b[0m\u001b[0mNL_train_X_data\u001b[0m\u001b[1;33m,\u001b[0m \u001b[0mNL_train_Y_data\u001b[0m\u001b[1;33m,\u001b[0m \u001b[0mNL_test_X_data\u001b[0m\u001b[1;33m,\u001b[0m \u001b[1;36m50\u001b[0m\u001b[1;33m)\u001b[0m\u001b[1;33m\u001b[0m\u001b[0m\n\u001b[0m\u001b[0;32m     11\u001b[0m \u001b[1;33m\u001b[0m\u001b[0m\n\u001b[0;32m     12\u001b[0m     \u001b[0myhat\u001b[0m \u001b[1;33m=\u001b[0m \u001b[0mAnti_Normalization_lab\u001b[0m\u001b[1;33m(\u001b[0m\u001b[0mdata\u001b[0m\u001b[1;33m,\u001b[0m \u001b[0mNL_test_X_data\u001b[0m\u001b[1;33m,\u001b[0m \u001b[0myhat\u001b[0m\u001b[1;33m)\u001b[0m\u001b[1;33m\u001b[0m\u001b[0m\n",
      "\u001b[1;32m~\\Projects\\LongMaXi\\model.py\u001b[0m in \u001b[0;36mthree_cnn_model\u001b[1;34m(NL_train_X_data, NL_train_Y_data, NL_test_X_data, filter_Num)\u001b[0m\n\u001b[0;32m     62\u001b[0m     \u001b[1;31m# X为输入数据，y为数据标签；batch_size：每次梯度更新的样本数，默认为32。\u001b[0m\u001b[1;33m\u001b[0m\u001b[1;33m\u001b[0m\u001b[0m\n\u001b[0;32m     63\u001b[0m     \u001b[1;31m# verbose: 0,1,2. 0=训练过程无输出，1=显示训练过程进度条，2=每训练一个epoch打印一次信息\u001b[0m\u001b[1;33m\u001b[0m\u001b[1;33m\u001b[0m\u001b[0m\n\u001b[1;32m---> 64\u001b[1;33m     \u001b[0mhistory\u001b[0m \u001b[1;33m=\u001b[0m \u001b[0mmodel\u001b[0m\u001b[1;33m.\u001b[0m\u001b[0mfit\u001b[0m\u001b[1;33m(\u001b[0m\u001b[0mNL_train_X_data\u001b[0m\u001b[1;33m,\u001b[0m \u001b[0mNL_train_Y_data\u001b[0m\u001b[1;33m,\u001b[0m \u001b[0mbatch_size\u001b[0m\u001b[1;33m=\u001b[0m\u001b[1;36m5\u001b[0m\u001b[1;33m,\u001b[0m \u001b[0mepochs\u001b[0m\u001b[1;33m=\u001b[0m\u001b[1;36m100\u001b[0m\u001b[1;33m,\u001b[0m \u001b[0mverbose\u001b[0m\u001b[1;33m=\u001b[0m\u001b[1;36m0\u001b[0m\u001b[1;33m)\u001b[0m\u001b[1;33m\u001b[0m\u001b[0m\n\u001b[0m\u001b[0;32m     65\u001b[0m     \u001b[1;31m# print('\\n', model.summary())\u001b[0m\u001b[1;33m\u001b[0m\u001b[1;33m\u001b[0m\u001b[0m\n\u001b[0;32m     66\u001b[0m     \u001b[0myhat\u001b[0m \u001b[1;33m=\u001b[0m \u001b[0mmodel\u001b[0m\u001b[1;33m.\u001b[0m\u001b[0mpredict\u001b[0m\u001b[1;33m(\u001b[0m\u001b[0mnp\u001b[0m\u001b[1;33m.\u001b[0m\u001b[0marray\u001b[0m\u001b[1;33m(\u001b[0m\u001b[0mNL_test_X_data\u001b[0m\u001b[1;33m)\u001b[0m\u001b[1;33m,\u001b[0m \u001b[0mverbose\u001b[0m\u001b[1;33m=\u001b[0m\u001b[1;36m0\u001b[0m\u001b[1;33m)\u001b[0m\u001b[1;33m\u001b[0m\u001b[0m\n",
      "\u001b[1;32mD:\\software\\anaconda\\envs\\tensorflow\\lib\\site-packages\\tensorflow\\python\\keras\\engine\\training.py\u001b[0m in \u001b[0;36m_method_wrapper\u001b[1;34m(self, *args, **kwargs)\u001b[0m\n\u001b[0;32m    106\u001b[0m   \u001b[1;32mdef\u001b[0m \u001b[0m_method_wrapper\u001b[0m\u001b[1;33m(\u001b[0m\u001b[0mself\u001b[0m\u001b[1;33m,\u001b[0m \u001b[1;33m*\u001b[0m\u001b[0margs\u001b[0m\u001b[1;33m,\u001b[0m \u001b[1;33m**\u001b[0m\u001b[0mkwargs\u001b[0m\u001b[1;33m)\u001b[0m\u001b[1;33m:\u001b[0m\u001b[1;33m\u001b[0m\u001b[0m\n\u001b[0;32m    107\u001b[0m     \u001b[1;32mif\u001b[0m \u001b[1;32mnot\u001b[0m \u001b[0mself\u001b[0m\u001b[1;33m.\u001b[0m\u001b[0m_in_multi_worker_mode\u001b[0m\u001b[1;33m(\u001b[0m\u001b[1;33m)\u001b[0m\u001b[1;33m:\u001b[0m  \u001b[1;31m# pylint: disable=protected-access\u001b[0m\u001b[1;33m\u001b[0m\u001b[0m\n\u001b[1;32m--> 108\u001b[1;33m       \u001b[1;32mreturn\u001b[0m \u001b[0mmethod\u001b[0m\u001b[1;33m(\u001b[0m\u001b[0mself\u001b[0m\u001b[1;33m,\u001b[0m \u001b[1;33m*\u001b[0m\u001b[0margs\u001b[0m\u001b[1;33m,\u001b[0m \u001b[1;33m**\u001b[0m\u001b[0mkwargs\u001b[0m\u001b[1;33m)\u001b[0m\u001b[1;33m\u001b[0m\u001b[0m\n\u001b[0m\u001b[0;32m    109\u001b[0m \u001b[1;33m\u001b[0m\u001b[0m\n\u001b[0;32m    110\u001b[0m     \u001b[1;31m# Running inside `run_distribute_coordinator` already.\u001b[0m\u001b[1;33m\u001b[0m\u001b[1;33m\u001b[0m\u001b[0m\n",
      "\u001b[1;32mD:\\software\\anaconda\\envs\\tensorflow\\lib\\site-packages\\tensorflow\\python\\keras\\engine\\training.py\u001b[0m in \u001b[0;36mfit\u001b[1;34m(self, x, y, batch_size, epochs, verbose, callbacks, validation_split, validation_data, shuffle, class_weight, sample_weight, initial_epoch, steps_per_epoch, validation_steps, validation_batch_size, validation_freq, max_queue_size, workers, use_multiprocessing)\u001b[0m\n\u001b[0;32m   1096\u001b[0m                 batch_size=batch_size):\n\u001b[0;32m   1097\u001b[0m               \u001b[0mcallbacks\u001b[0m\u001b[1;33m.\u001b[0m\u001b[0mon_train_batch_begin\u001b[0m\u001b[1;33m(\u001b[0m\u001b[0mstep\u001b[0m\u001b[1;33m)\u001b[0m\u001b[1;33m\u001b[0m\u001b[0m\n\u001b[1;32m-> 1098\u001b[1;33m               \u001b[0mtmp_logs\u001b[0m \u001b[1;33m=\u001b[0m \u001b[0mtrain_function\u001b[0m\u001b[1;33m(\u001b[0m\u001b[0miterator\u001b[0m\u001b[1;33m)\u001b[0m\u001b[1;33m\u001b[0m\u001b[0m\n\u001b[0m\u001b[0;32m   1099\u001b[0m               \u001b[1;32mif\u001b[0m \u001b[0mdata_handler\u001b[0m\u001b[1;33m.\u001b[0m\u001b[0mshould_sync\u001b[0m\u001b[1;33m:\u001b[0m\u001b[1;33m\u001b[0m\u001b[0m\n\u001b[0;32m   1100\u001b[0m                 \u001b[0mcontext\u001b[0m\u001b[1;33m.\u001b[0m\u001b[0masync_wait\u001b[0m\u001b[1;33m(\u001b[0m\u001b[1;33m)\u001b[0m\u001b[1;33m\u001b[0m\u001b[0m\n",
      "\u001b[1;32mD:\\software\\anaconda\\envs\\tensorflow\\lib\\site-packages\\tensorflow\\python\\eager\\def_function.py\u001b[0m in \u001b[0;36m__call__\u001b[1;34m(self, *args, **kwds)\u001b[0m\n\u001b[0;32m    778\u001b[0m       \u001b[1;32melse\u001b[0m\u001b[1;33m:\u001b[0m\u001b[1;33m\u001b[0m\u001b[0m\n\u001b[0;32m    779\u001b[0m         \u001b[0mcompiler\u001b[0m \u001b[1;33m=\u001b[0m \u001b[1;34m\"nonXla\"\u001b[0m\u001b[1;33m\u001b[0m\u001b[0m\n\u001b[1;32m--> 780\u001b[1;33m         \u001b[0mresult\u001b[0m \u001b[1;33m=\u001b[0m \u001b[0mself\u001b[0m\u001b[1;33m.\u001b[0m\u001b[0m_call\u001b[0m\u001b[1;33m(\u001b[0m\u001b[1;33m*\u001b[0m\u001b[0margs\u001b[0m\u001b[1;33m,\u001b[0m \u001b[1;33m**\u001b[0m\u001b[0mkwds\u001b[0m\u001b[1;33m)\u001b[0m\u001b[1;33m\u001b[0m\u001b[0m\n\u001b[0m\u001b[0;32m    781\u001b[0m \u001b[1;33m\u001b[0m\u001b[0m\n\u001b[0;32m    782\u001b[0m       \u001b[0mnew_tracing_count\u001b[0m \u001b[1;33m=\u001b[0m \u001b[0mself\u001b[0m\u001b[1;33m.\u001b[0m\u001b[0m_get_tracing_count\u001b[0m\u001b[1;33m(\u001b[0m\u001b[1;33m)\u001b[0m\u001b[1;33m\u001b[0m\u001b[0m\n",
      "\u001b[1;32mD:\\software\\anaconda\\envs\\tensorflow\\lib\\site-packages\\tensorflow\\python\\eager\\def_function.py\u001b[0m in \u001b[0;36m_call\u001b[1;34m(self, *args, **kwds)\u001b[0m\n\u001b[0;32m    805\u001b[0m       \u001b[1;31m# In this case we have created variables on the first call, so we run the\u001b[0m\u001b[1;33m\u001b[0m\u001b[1;33m\u001b[0m\u001b[0m\n\u001b[0;32m    806\u001b[0m       \u001b[1;31m# defunned version which is guaranteed to never create variables.\u001b[0m\u001b[1;33m\u001b[0m\u001b[1;33m\u001b[0m\u001b[0m\n\u001b[1;32m--> 807\u001b[1;33m       \u001b[1;32mreturn\u001b[0m \u001b[0mself\u001b[0m\u001b[1;33m.\u001b[0m\u001b[0m_stateless_fn\u001b[0m\u001b[1;33m(\u001b[0m\u001b[1;33m*\u001b[0m\u001b[0margs\u001b[0m\u001b[1;33m,\u001b[0m \u001b[1;33m**\u001b[0m\u001b[0mkwds\u001b[0m\u001b[1;33m)\u001b[0m  \u001b[1;31m# pylint: disable=not-callable\u001b[0m\u001b[1;33m\u001b[0m\u001b[0m\n\u001b[0m\u001b[0;32m    808\u001b[0m     \u001b[1;32melif\u001b[0m \u001b[0mself\u001b[0m\u001b[1;33m.\u001b[0m\u001b[0m_stateful_fn\u001b[0m \u001b[1;32mis\u001b[0m \u001b[1;32mnot\u001b[0m \u001b[1;32mNone\u001b[0m\u001b[1;33m:\u001b[0m\u001b[1;33m\u001b[0m\u001b[0m\n\u001b[0;32m    809\u001b[0m       \u001b[1;31m# Release the lock early so that multiple threads can perform the call\u001b[0m\u001b[1;33m\u001b[0m\u001b[1;33m\u001b[0m\u001b[0m\n",
      "\u001b[1;32mD:\\software\\anaconda\\envs\\tensorflow\\lib\\site-packages\\tensorflow\\python\\eager\\function.py\u001b[0m in \u001b[0;36m__call__\u001b[1;34m(self, *args, **kwargs)\u001b[0m\n\u001b[0;32m   2827\u001b[0m     \u001b[1;32mwith\u001b[0m \u001b[0mself\u001b[0m\u001b[1;33m.\u001b[0m\u001b[0m_lock\u001b[0m\u001b[1;33m:\u001b[0m\u001b[1;33m\u001b[0m\u001b[0m\n\u001b[0;32m   2828\u001b[0m       \u001b[0mgraph_function\u001b[0m\u001b[1;33m,\u001b[0m \u001b[0margs\u001b[0m\u001b[1;33m,\u001b[0m \u001b[0mkwargs\u001b[0m \u001b[1;33m=\u001b[0m \u001b[0mself\u001b[0m\u001b[1;33m.\u001b[0m\u001b[0m_maybe_define_function\u001b[0m\u001b[1;33m(\u001b[0m\u001b[0margs\u001b[0m\u001b[1;33m,\u001b[0m \u001b[0mkwargs\u001b[0m\u001b[1;33m)\u001b[0m\u001b[1;33m\u001b[0m\u001b[0m\n\u001b[1;32m-> 2829\u001b[1;33m     \u001b[1;32mreturn\u001b[0m \u001b[0mgraph_function\u001b[0m\u001b[1;33m.\u001b[0m\u001b[0m_filtered_call\u001b[0m\u001b[1;33m(\u001b[0m\u001b[0margs\u001b[0m\u001b[1;33m,\u001b[0m \u001b[0mkwargs\u001b[0m\u001b[1;33m)\u001b[0m  \u001b[1;31m# pylint: disable=protected-access\u001b[0m\u001b[1;33m\u001b[0m\u001b[0m\n\u001b[0m\u001b[0;32m   2830\u001b[0m \u001b[1;33m\u001b[0m\u001b[0m\n\u001b[0;32m   2831\u001b[0m   \u001b[1;33m@\u001b[0m\u001b[0mproperty\u001b[0m\u001b[1;33m\u001b[0m\u001b[0m\n",
      "\u001b[1;32mD:\\software\\anaconda\\envs\\tensorflow\\lib\\site-packages\\tensorflow\\python\\eager\\function.py\u001b[0m in \u001b[0;36m_filtered_call\u001b[1;34m(self, args, kwargs, cancellation_manager)\u001b[0m\n\u001b[0;32m   1846\u001b[0m                            resource_variable_ops.BaseResourceVariable))],\n\u001b[0;32m   1847\u001b[0m         \u001b[0mcaptured_inputs\u001b[0m\u001b[1;33m=\u001b[0m\u001b[0mself\u001b[0m\u001b[1;33m.\u001b[0m\u001b[0mcaptured_inputs\u001b[0m\u001b[1;33m,\u001b[0m\u001b[1;33m\u001b[0m\u001b[0m\n\u001b[1;32m-> 1848\u001b[1;33m         cancellation_manager=cancellation_manager)\n\u001b[0m\u001b[0;32m   1849\u001b[0m \u001b[1;33m\u001b[0m\u001b[0m\n\u001b[0;32m   1850\u001b[0m   \u001b[1;32mdef\u001b[0m \u001b[0m_call_flat\u001b[0m\u001b[1;33m(\u001b[0m\u001b[0mself\u001b[0m\u001b[1;33m,\u001b[0m \u001b[0margs\u001b[0m\u001b[1;33m,\u001b[0m \u001b[0mcaptured_inputs\u001b[0m\u001b[1;33m,\u001b[0m \u001b[0mcancellation_manager\u001b[0m\u001b[1;33m=\u001b[0m\u001b[1;32mNone\u001b[0m\u001b[1;33m)\u001b[0m\u001b[1;33m:\u001b[0m\u001b[1;33m\u001b[0m\u001b[0m\n",
      "\u001b[1;32mD:\\software\\anaconda\\envs\\tensorflow\\lib\\site-packages\\tensorflow\\python\\eager\\function.py\u001b[0m in \u001b[0;36m_call_flat\u001b[1;34m(self, args, captured_inputs, cancellation_manager)\u001b[0m\n\u001b[0;32m   1922\u001b[0m       \u001b[1;31m# No tape is watching; skip to running the function.\u001b[0m\u001b[1;33m\u001b[0m\u001b[1;33m\u001b[0m\u001b[0m\n\u001b[0;32m   1923\u001b[0m       return self._build_call_outputs(self._inference_function.call(\n\u001b[1;32m-> 1924\u001b[1;33m           ctx, args, cancellation_manager=cancellation_manager))\n\u001b[0m\u001b[0;32m   1925\u001b[0m     forward_backward = self._select_forward_and_backward_functions(\n\u001b[0;32m   1926\u001b[0m         \u001b[0margs\u001b[0m\u001b[1;33m,\u001b[0m\u001b[1;33m\u001b[0m\u001b[0m\n",
      "\u001b[1;32mD:\\software\\anaconda\\envs\\tensorflow\\lib\\site-packages\\tensorflow\\python\\eager\\function.py\u001b[0m in \u001b[0;36mcall\u001b[1;34m(self, ctx, args, cancellation_manager)\u001b[0m\n\u001b[0;32m    548\u001b[0m               \u001b[0minputs\u001b[0m\u001b[1;33m=\u001b[0m\u001b[0margs\u001b[0m\u001b[1;33m,\u001b[0m\u001b[1;33m\u001b[0m\u001b[0m\n\u001b[0;32m    549\u001b[0m               \u001b[0mattrs\u001b[0m\u001b[1;33m=\u001b[0m\u001b[0mattrs\u001b[0m\u001b[1;33m,\u001b[0m\u001b[1;33m\u001b[0m\u001b[0m\n\u001b[1;32m--> 550\u001b[1;33m               ctx=ctx)\n\u001b[0m\u001b[0;32m    551\u001b[0m         \u001b[1;32melse\u001b[0m\u001b[1;33m:\u001b[0m\u001b[1;33m\u001b[0m\u001b[0m\n\u001b[0;32m    552\u001b[0m           outputs = execute.execute_with_cancellation(\n",
      "\u001b[1;32mD:\\software\\anaconda\\envs\\tensorflow\\lib\\site-packages\\tensorflow\\python\\eager\\execute.py\u001b[0m in \u001b[0;36mquick_execute\u001b[1;34m(op_name, num_outputs, inputs, attrs, ctx, name)\u001b[0m\n\u001b[0;32m     58\u001b[0m     \u001b[0mctx\u001b[0m\u001b[1;33m.\u001b[0m\u001b[0mensure_initialized\u001b[0m\u001b[1;33m(\u001b[0m\u001b[1;33m)\u001b[0m\u001b[1;33m\u001b[0m\u001b[0m\n\u001b[0;32m     59\u001b[0m     tensors = pywrap_tfe.TFE_Py_Execute(ctx._handle, device_name, op_name,\n\u001b[1;32m---> 60\u001b[1;33m                                         inputs, attrs, num_outputs)\n\u001b[0m\u001b[0;32m     61\u001b[0m   \u001b[1;32mexcept\u001b[0m \u001b[0mcore\u001b[0m\u001b[1;33m.\u001b[0m\u001b[0m_NotOkStatusException\u001b[0m \u001b[1;32mas\u001b[0m \u001b[0me\u001b[0m\u001b[1;33m:\u001b[0m\u001b[1;33m\u001b[0m\u001b[0m\n\u001b[0;32m     62\u001b[0m     \u001b[1;32mif\u001b[0m \u001b[0mname\u001b[0m \u001b[1;32mis\u001b[0m \u001b[1;32mnot\u001b[0m \u001b[1;32mNone\u001b[0m\u001b[1;33m:\u001b[0m\u001b[1;33m\u001b[0m\u001b[0m\n",
      "\u001b[1;31mKeyboardInterrupt\u001b[0m: "
     ]
    }
   ],
   "source": [
    "loo = LeaveOneOut()\n",
    "loo.get_n_splits(NL_input_data)\n",
    "cnn =[]\n",
    "NL_input_data = NL_input_data.reshape(-1, 1, 3)\n",
    "NL_output_data = NL_output_data.reshape(-1, 1, 1)\n",
    "for train_index, test_index in loo.split(NL_input_data):\n",
    "    NL_train_X_data, NL_test_X_data = NL_input_data[train_index], NL_input_data[test_index]\n",
    "    NL_train_Y_data, NL_test_Y_data = NL_output_data[train_index], NL_output_data[test_index]\n",
    "    \n",
    "    yhat, model, history = three_cnn_model(NL_train_X_data, NL_train_Y_data, NL_test_X_data, 50)\n",
    "    \n",
    "    yhat = Anti_Normalization_lab(data, NL_test_X_data, yhat)\n",
    "    cnn.append(yhat)\n",
    "#     print(\"yhat:\", yhat)\n",
    "#     print(\"yhat_array[test_index][0]:\", yhat_array[test_index][0])\n",
    "cnn = np.array(cnn)"
   ]
  },
  {
   "cell_type": "markdown",
   "metadata": {},
   "source": [
    "lr"
   ]
  },
  {
   "cell_type": "code",
   "execution_count": 373,
   "metadata": {
    "collapsed": true
   },
   "outputs": [
    {
     "name": "stdout",
     "output_type": "stream",
     "text": [
      "yhat.shape: (1, 1)\n",
      "yhat.shape: (1, 1)\n",
      "yhat.shape: (1, 1)\n",
      "yhat.shape: (1, 1)\n",
      "yhat.shape: (1, 1)\n",
      "yhat.shape: (1, 1)\n",
      "yhat.shape: (1, 1)\n",
      "yhat.shape: (1, 1)\n",
      "yhat.shape: (1, 1)\n",
      "yhat.shape: (1, 1)\n",
      "yhat.shape: (1, 1)\n",
      "yhat.shape: (1, 1)\n",
      "yhat.shape: (1, 1)\n",
      "yhat.shape: (1, 1)\n",
      "yhat.shape: (1, 1)\n",
      "yhat.shape: (1, 1)\n",
      "yhat.shape: (1, 1)\n",
      "yhat.shape: (1, 1)\n",
      "yhat.shape: (1, 1)\n",
      "yhat.shape: (1, 1)\n",
      "yhat.shape: (1, 1)\n",
      "yhat.shape: (1, 1)\n",
      "yhat.shape: (1, 1)\n",
      "yhat.shape: (1, 1)\n",
      "yhat.shape: (1, 1)\n",
      "yhat.shape: (1, 1)\n",
      "yhat.shape: (1, 1)\n",
      "yhat.shape: (1, 1)\n",
      "yhat.shape: (1, 1)\n",
      "yhat.shape: (1, 1)\n",
      "yhat.shape: (1, 1)\n",
      "yhat.shape: (1, 1)\n",
      "yhat.shape: (1, 1)\n",
      "yhat.shape: (1, 1)\n",
      "yhat.shape: (1, 1)\n",
      "yhat.shape: (1, 1)\n",
      "yhat.shape: (1, 1)\n",
      "yhat.shape: (1, 1)\n",
      "yhat.shape: (1, 1)\n",
      "yhat.shape: (1, 1)\n",
      "yhat.shape: (1, 1)\n",
      "yhat.shape: (1, 1)\n",
      "yhat.shape: (1, 1)\n",
      "yhat.shape: (1, 1)\n",
      "yhat.shape: (1, 1)\n",
      "yhat.shape: (1, 1)\n",
      "yhat.shape: (1, 1)\n"
     ]
    }
   ],
   "source": [
    "loo = LeaveOneOut()\n",
    "loo.get_n_splits(NL_input_data)\n",
    "lr =[]\n",
    "\n",
    "for train_index, test_index in loo.split(NL_input_data):\n",
    "    NL_train_X_data, NL_test_X_data = NL_input_data[train_index], NL_input_data[test_index]\n",
    "    NL_train_Y_data, NL_test_Y_data = NL_output_data[train_index], NL_output_data[test_index]\n",
    "    NL_train_X_data, NL_train_Y_data, NL_test_X_data = NL_train_X_data.reshape(-1, data.shape[1] - 1), NL_train_Y_data.reshape(-1,1), NL_test_X_data.reshape(-1, data.shape[1] - 1)\n",
    "\n",
    "    yhat, model, score, ev = LinearRegression_model(NL_train_X_data, NL_train_Y_data, NL_test_X_data, NL_test_Y_data)\n",
    "    \n",
    "    yhat = Anti_Normalization_lab(data, NL_test_X_data, yhat)\n",
    "    lr.append(yhat)\n",
    "#     print(\"yhat:\", yhat)\n",
    "#     print(\"yhat_array[test_index][0]:\", yhat_array[test_index][0])\n",
    "lr = np.array(lr)"
   ]
  },
  {
   "cell_type": "markdown",
   "metadata": {},
   "source": [
    "dt"
   ]
  },
  {
   "cell_type": "code",
   "execution_count": null,
   "metadata": {},
   "outputs": [],
   "source": [
    "loo = LeaveOneOut()\n",
    "loo.get_n_splits(NL_input_data)\n",
    "dt =[]\n",
    "\n",
    "for train_index, test_index in loo.split(NL_input_data):\n",
    "    NL_train_X_data, NL_test_X_data = NL_input_data[train_index], NL_input_data[test_index]\n",
    "    NL_train_Y_data, NL_test_Y_data = NL_output_data[train_index], NL_output_data[test_index]\n",
    "\n",
    "    NL_train_X_data, NL_train_Y_data, NL_test_X_data = NL_train_X_data.reshape(-1, data.shape[1] - 1), NL_train_Y_data.reshape(-1,1), NL_test_X_data.reshape(-1, data.shape[1] - 1)\n",
    "\n",
    "    dtr = tree.DecisionTreeRegressor(random_state=32)\n",
    "    yhat = dtr.fit(NL_train_X_data, NL_train_Y_data).predict(NL_test_X_data).reshape(-1, 1)\n",
    "    \n",
    "    yhat = Anti_Normalization_lab(data, NL_test_X_data, yhat)\n",
    "    dt.append(yhat)\n",
    "#     print(\"yhat:\", yhat)\n",
    "#     print(\"yhat_array[test_index][0]:\", yhat_array[test_index][0])\n",
    "dt= np.array(dt)"
   ]
  },
  {
   "cell_type": "markdown",
   "metadata": {},
   "source": [
    "rf"
   ]
  },
  {
   "cell_type": "code",
   "execution_count": 374,
   "metadata": {},
   "outputs": [],
   "source": [
    "loo = LeaveOneOut()\n",
    "loo.get_n_splits(NL_input_data)\n",
    "rf =[]\n",
    "for train_index, test_index in loo.split(NL_input_data):\n",
    "    NL_train_X_data, NL_test_X_data = NL_input_data[train_index], NL_input_data[test_index]\n",
    "    NL_train_Y_data, NL_test_Y_data = NL_output_data[train_index], NL_output_data[test_index]\n",
    "\n",
    "    NL_train_X_data, NL_train_Y_data, NL_test_X_data = NL_train_X_data.reshape(-1, data.shape[1] - 1), NL_train_Y_data.reshape(-1,1), NL_test_X_data.reshape(-1, data.shape[1] - 1)\n",
    "    rfr = RandomForestRegressor(random_state=70)\n",
    "    yhat = rfr.fit(NL_train_X_data,NL_train_Y_data).predict(NL_test_X_data).reshape(-1, 1)\n",
    "\n",
    "    yhat = Anti_Normalization_lab(data, NL_test_X_data, yhat)\n",
    "    rf.append(yhat)\n",
    "#     print(\"yhat:\", yhat)\n",
    "#     print(\"yhat_array[test_index][0]:\", yhat_array[test_index][0])\n",
    "rf= np.array(rf)"
   ]
  },
  {
   "cell_type": "markdown",
   "metadata": {},
   "source": [
    "svr"
   ]
  },
  {
   "cell_type": "code",
   "execution_count": null,
   "metadata": {
    "collapsed": true
   },
   "outputs": [],
   "source": [
    "loo = LeaveOneOut()\n",
    "loo.get_n_splits(NL_input_data)\n",
    "svr =[]\n",
    "for train_index, test_index in loo.split(NL_input_data):\n",
    "    NL_train_X_data, NL_test_X_data = NL_input_data[train_index], NL_input_data[test_index]\n",
    "    NL_train_Y_data, NL_test_Y_data = NL_output_data[train_index], NL_output_data[test_index]\n",
    "\n",
    "    NL_train_X_data, NL_train_Y_data, NL_test_X_data = NL_train_X_data.reshape(-1, data.shape[1] - 1), NL_train_Y_data.reshape(-1,1), NL_test_X_data.reshape(-1, data.shape[1] - 1)\n",
    "    svr_rbf = SVR(kernel='rbf', C=1e2, gamma=0.01)\n",
    "    yhat = svr_rbf.fit(NL_train_X_data, NL_train_Y_data).predict(NL_test_X_data).reshape(-1, 1)\n",
    "\n",
    "    yhat = Anti_Normalization_lab(data, NL_test_X_data, yhat)\n",
    "    svr.append(yhat)\n",
    "#     print(\"yhat:\", yhat)\n",
    "#     print(\"yhat_array[test_index][0]:\", yhat_array[test_index][0])\n",
    "svr= np.array(svr)"
   ]
  },
  {
   "cell_type": "code",
   "execution_count": 375,
   "metadata": {
    "scrolled": true
   },
   "outputs": [
    {
     "name": "stdout",
     "output_type": "stream",
     "text": [
      "a_Aim: [[0.53532008 0.34      ]\n",
      " [0.39944243 0.31      ]\n",
      " [0.56502543 0.38      ]\n",
      " [0.42460325 0.27      ]\n",
      " [0.57754243 0.66      ]\n",
      " [0.68100898 0.94      ]\n",
      " [0.89196821 0.78      ]\n",
      " [1.9335985  1.76      ]\n",
      " [1.66161583 1.8466545 ]\n",
      " [1.86374987 1.66068162]\n",
      " [2.08395609 1.81981593]\n",
      " [2.09138485 1.94671182]\n",
      " [2.23883984 1.73520329]\n",
      " [1.97990407 2.28356167]\n",
      " [1.99722638 1.89253988]\n",
      " [1.96763405 2.34064806]\n",
      " [2.73071408 2.47647158]\n",
      " [2.47409852 2.45862375]\n",
      " [2.14829998 3.27705053]\n",
      " [2.73871747 2.44126372]\n",
      " [2.20439473 2.30508386]\n",
      " [3.07079628 2.85687003]\n",
      " [2.94213363 2.6269005 ]\n",
      " [3.04229962 3.23689673]\n",
      " [3.55826794 3.88517228]\n",
      " [3.75347499 3.82588478]\n",
      " [4.13750498 4.43293719]\n",
      " [3.50575338 4.32633246]\n",
      " [3.4518171  4.21771238]\n",
      " [3.94461935 4.30568365]\n",
      " [4.17180074 2.41404531]\n",
      " [2.67026337 2.71993469]\n",
      " [2.62238474 2.15543291]\n",
      " [3.55816024 2.22342526]\n",
      " [2.85232718 2.10596929]\n",
      " [2.8331088  2.24002492]\n",
      " [2.79030278 2.69853242]\n",
      " [4.32329053 2.58978105]\n",
      " [4.37660029 5.31958444]\n",
      " [3.66203187 4.97013425]\n",
      " [4.30045382 3.85050433]\n",
      " [2.29313556 3.72524088]\n",
      " [4.73783608 5.23977848]\n",
      " [2.60639357 3.48096933]\n",
      " [4.41256527 4.37635246]\n",
      " [3.9368255  5.0128701 ]\n",
      " [4.37692147 3.314     ]]\n",
      "mse:  0.45248516525950216\n",
      "R2:  0.6850016058325789\n"
     ]
    },
    {
     "data": {
      "image/png": "[encoded data removed]",
      "text/plain": [
       "<Figure size 1440x648 with 1 Axes>"
      ]
     },
     "metadata": {},
     "output_type": "display_data"
    }
   ],
   "source": [
    "a = rf\n",
    "a = a.reshape(-1, 1)\n",
    "Aim = Aim.reshape(-1, 1)\n",
    "NL_input_data = NL_input_data.reshape(-1, 3)\n",
    "print(\"a_Aim:\", np.hstack((a, Aim)))\n",
    "print('mse: ', mean_squared_error(Aim, a))\n",
    "#print('平均相对误差: ', np.average(np.abs(Aim - yhat_array) / a, axis=0))\n",
    "print('R2: ', r2_score(a, Aim))\n",
    "# loss = history.history['loss']\n",
    "# val_loss = history.history['val_loss']\n",
    "# epochs = range(1, len(loss) + 1)\n",
    "\n",
    "# plt.title('loss')\n",
    "# plt.figure()\n",
    "# plt.plot(epochs, loss, 'blue', label=las_23.keys()[b] + ' loss')\n",
    "# plt.legend(loc=\"best\")\n",
    "# plt.plot(epochs, val_loss, 'red', label=las_23.keys()[b] + ' val_loss')\n",
    "# plt.close()\n",
    "# plt.scatter(Aim, yhat_array, alpha=0.6)\n",
    "# plt.plot((0, 5.4), (0, 5.4), ls='--', c='k', label=\"1:1 line\")\n",
    "# plt.xlabel(\"true/(m^3)\")\n",
    "# plt.ylabel(\"predict/(us/m)\")\n",
    "# plt.show()\n",
    "# depth = [item.value for item in list(worksheet.columns)[0]]\n",
    "fig_2 = plt.figure(figsize=(20, 9))  # 作图画布大小(每循环一次，就会建立新的画布）\n",
    "# for f in range(3):\n",
    "#     ax = fig_2.add_subplot(1, 4, f + 1)  # 图布一行len(a)列，画在第f+1块\n",
    "#     ax.plot(Para_VVR[train_data_length:, f], depth)\n",
    "#     ax.set_xlabel(df_Para.keys()[f])\n",
    "#     ax.xaxis.tick_top()\n",
    "#     ax.invert_yaxis()\n",
    "#     plt.tick_params(labelsize=6)\n",
    "ax = fig_2.add_subplot(1, 1, 1)\n",
    "ax.plot(a, 'o-', color = 'green', linewidth=1, label='true_value')\n",
    "# ax.plot(a, 'o-', color=\"red\", linewidth=2, label='predict_value')\n",
    "# ax.plot(NL_input_data[:, 0],  'o-', color = 'blue', linewidth=2, label='DTS')\n",
    "# ax.plot(NL_input_data[:, 1], 'o-',color = 'purple', linewidth=2, label='DT')\n",
    "ax.plot(Para_VVR[:, 2], 'o-', color = 'black', linewidth=1, label='RHOB')\n",
    "# plt.xticks(np.arange(1, 38 , 1))\n",
    "# plt.scatter(Para_VVR[:, 2], NL_output_data, alpha=0.6)\n",
    "plt.xlabel(\"RHOB/(m^3)\")\n",
    "plt.ylabel(\"GAS/(g/cm^3)\")\n",
    "# ax.set_xlabel(las_23.keys()[b])\n",
    "plt.tick_params(labelsize=6)\n",
    "#     # plt.savefig(r\"D:\\software\\pycharm\\PyCharm 2019.3.3\\projects\\predict_GASV\\结果\\onewey\\图片\\两口井3to5\\onecon/\" + name + \".png\")\n",
    "#     plt.savefig(\"lab_bp_loocv_carve_predict\")\n",
    "plt.grid() \n",
    "plt.show()\n",
    "# with open(r'D:\\software\\pycharm\\PyCharm 2019.3.3\\projects\\predict_GASV\\结果\\onewey\\class\\Aim_predict_nonsort.txt', 'w') as f:\n",
    "#     np.savetxt(f, Aim_data, fmt=\"%.6f\")\n",
    "# resullt: mse:  0.19096958874525233\n",
    "# R2:  0.9763681438005949"
   ]
  },
  {
   "cell_type": "code",
   "execution_count": null,
   "metadata": {
    "collapsed": true
   },
   "outputs": [],
   "source": []
  }
 ],
 "metadata": {
  "kernelspec": {
   "display_name": "Python [conda env:tensorflow]",
   "language": "python",
   "name": "conda-env-tensorflow-py"
  },
  "language_info": {
   "codemirror_mode": {
    "name": "ipython",
    "version": 3
   },
   "file_extension": ".py",
   "mimetype": "text/x-python",
   "name": "python",
   "nbconvert_exporter": "python",
   "pygments_lexer": "ipython3",
   "version": "3.5.4"
  }
 },
 "nbformat": 4,
 "nbformat_minor": 2
}
